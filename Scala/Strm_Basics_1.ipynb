{
 "cells": [
  {
   "cell_type": "code",
   "execution_count": 26,
   "metadata": {
    "ExecuteTime": {
     "end_time": "2019-05-20T19:55:04.796787Z",
     "start_time": "2019-05-20T19:55:04.701456Z"
    }
   },
   "outputs": [
    {
     "data": {
      "text/plain": [
       "import org.apache.spark._\n"
      ]
     },
     "execution_count": 26,
     "metadata": {},
     "output_type": "execute_result"
    }
   ],
   "source": [
    "import org.apache.spark._"
   ]
  },
  {
   "cell_type": "code",
   "execution_count": 27,
   "metadata": {
    "ExecuteTime": {
     "end_time": "2019-05-20T19:55:05.485734Z",
     "start_time": "2019-05-20T19:55:05.332565Z"
    }
   },
   "outputs": [
    {
     "data": {
      "text/plain": [
       "rdd: org.apache.spark.rdd.RDD[String] = ../Udemy_Scala/Spark Streaming/book.txt MapPartitionsRDD[10] at textFile at <console>:32\n"
      ]
     },
     "execution_count": 27,
     "metadata": {},
     "output_type": "execute_result"
    }
   ],
   "source": [
    "// val rdd = spark.read.textFile(\"../Udemy_Scala/Spark Streaming/book.txt\")\n",
    "val rdd = sc.textFile(\"../Udemy_Scala/Spark Streaming/book.txt\")"
   ]
  },
  {
   "cell_type": "code",
   "execution_count": 28,
   "metadata": {
    "ExecuteTime": {
     "end_time": "2019-05-20T19:55:06.230499Z",
     "start_time": "2019-05-20T19:55:06.055336Z"
    }
   },
   "outputs": [
    {
     "data": {
      "text/plain": [
       "words: org.apache.spark.rdd.RDD[String] = MapPartitionsRDD[11] at flatMap at <console>:32\n"
      ]
     },
     "execution_count": 28,
     "metadata": {},
     "output_type": "execute_result"
    }
   ],
   "source": [
    "val words = rdd.flatMap( line => line.split(' '))"
   ]
  },
  {
   "cell_type": "code",
   "execution_count": 30,
   "metadata": {
    "ExecuteTime": {
     "end_time": "2019-05-20T19:55:07.539187Z",
     "start_time": "2019-05-20T19:55:07.398877Z"
    }
   },
   "outputs": [
    {
     "data": {
      "text/plain": [
       "lowerCaseWords: org.apache.spark.rdd.RDD[String] = MapPartitionsRDD[13] at map at <console>:32\n"
      ]
     },
     "execution_count": 30,
     "metadata": {},
     "output_type": "execute_result"
    }
   ],
   "source": [
    "val lowerCaseWords = words.map( word => word.toLowerCase())"
   ]
  },
  {
   "cell_type": "code",
   "execution_count": 31,
   "metadata": {
    "ExecuteTime": {
     "end_time": "2019-05-20T19:55:08.412937Z",
     "start_time": "2019-05-20T19:55:08.064079Z"
    }
   },
   "outputs": [
    {
     "data": {
      "text/plain": [
       "countWords: scala.collection.Map[String,Long] = Map(foolproof -> 1, precious -> 1, inflammatory -> 1, referrer, -> 1, hourly -> 3, embedded -> 1, way). -> 1, touch, -> 1, of. -> 3, salesperson -> 5, expansion. -> 1, helplessness” -> 1, rate -> 7, appropriate. -> 2, 2014 -> 2, amazon.com -> 1, plugin -> 3, headache -> 1, purchasing -> 9, eric. -> 1, looks -> 2, site, -> 7, ranking -> 2, irs -> 2, california -> 1, scare -> 1, hard-earned -> 1, (a -> 1, action. -> 1, accident -> 3, scale. -> 2, looking. -> 1, physically -> 1, 27, -> 1, call. -> 1, iraq. -> 1, contracts -> 3, twofold. -> 1, scenario -> 1, way? -> 2, nudge -> 1, gamble -> 1, ideas -> 23, sketches -> 1, static -> 1, oculus -> 5, freelancer. -> 1, unity -> 1, joining -> 1, particularly -> 1, used -> 15, eye -> 3, idea; -> 1, s..."
      ]
     },
     "execution_count": 31,
     "metadata": {},
     "output_type": "execute_result"
    }
   ],
   "source": [
    "val countWords = lowerCaseWords.countByValue()"
   ]
  },
  {
   "cell_type": "code",
   "execution_count": 32,
   "metadata": {
    "ExecuteTime": {
     "end_time": "2019-05-20T19:55:09.555155Z",
     "start_time": "2019-05-20T19:55:09.422613Z"
    }
   },
   "outputs": [
    {
     "data": {
      "text/plain": [
       "res12: scala.collection.Map[String,Long] = Map(foolproof -> 1, precious -> 1, inflammatory -> 1, referrer, -> 1, hourly -> 3, embedded -> 1, way). -> 1, touch, -> 1, of. -> 3, salesperson -> 5)\n"
      ]
     },
     "execution_count": 32,
     "metadata": {},
     "output_type": "execute_result"
    }
   ],
   "source": [
    "countWords.take(10)"
   ]
  },
  {
   "cell_type": "code",
   "execution_count": null,
   "metadata": {},
   "outputs": [],
   "source": []
  }
 ],
 "metadata": {
  "kernelspec": {
   "display_name": "spylon-kernel",
   "language": "scala",
   "name": "spylon-kernel"
  },
  "language_info": {
   "codemirror_mode": "text/x-scala",
   "file_extension": ".scala",
   "help_links": [
    {
     "text": "MetaKernel Magics",
     "url": "https://metakernel.readthedocs.io/en/latest/source/README.html"
    }
   ],
   "mimetype": "text/x-scala",
   "name": "scala",
   "pygments_lexer": "scala",
   "version": "0.4.1"
  }
 },
 "nbformat": 4,
 "nbformat_minor": 2
}
